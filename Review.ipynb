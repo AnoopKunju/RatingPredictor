{
  "nbformat": 4,
  "nbformat_minor": 0,
  "metadata": {
    "colab": {
      "name": "Review.ipynb",
      "provenance": [],
      "collapsed_sections": [],
      "mount_file_id": "12CMjwj69wLm0HA5b1AuCk2CDL0g9GoR6",
      "authorship_tag": "ABX9TyOgAJW0MjsvsVMm/Uuny/kJ",
      "include_colab_link": true
    },
    "kernelspec": {
      "name": "python3",
      "display_name": "Python 3"
    }
  },
  "cells": [
    {
      "cell_type": "markdown",
      "metadata": {
        "id": "view-in-github",
        "colab_type": "text"
      },
      "source": [
        "<a href=\"https://colab.research.google.com/github/AnoopKunju/RatingPredictor/blob/main/Review.ipynb\" target=\"_parent\"><img src=\"https://colab.research.google.com/assets/colab-badge.svg\" alt=\"Open In Colab\"/></a>"
      ]
    },
    {
      "cell_type": "markdown",
      "metadata": {
        "id": "FpcmOaAzDSza"
      },
      "source": [
        "# Final Project\n",
        "### Anoop Kunjumon Scariah\n",
        "### Video demo [click here](https://youtu.be/yQJyGSp7OLc)\n",
        "### Hosted Application [click here](https://ratingprediction-ml-nlp.herokuapp.com/)\n",
        "### Github [click here](https://github.com/AnoopKunju/RatingPredictor)\n",
        "### Blog Post (Report) [click here](http://www.anoopscariah.me/dm-final-project/)\n"
      ]
    },
    {
      "cell_type": "code",
      "metadata": {
        "id": "eycK10kgtUsL"
      },
      "source": [
        "import os\n",
        "import pandas as pd\n",
        "import numpy as np\n",
        "import pickle\n",
        "import matplotlib.pyplot as plt\n",
        "import nltk\n",
        "from nltk.corpus import stopwords\n",
        "import string\n",
        "import spacy\n",
        "from sklearn.model_selection import train_test_split\n",
        "from sklearn.feature_extraction.text import TfidfVectorizer\n",
        "from sklearn.metrics import accuracy_score\n",
        "from sklearn.naive_bayes import MultinomialNB\n",
        "from sklearn.metrics import accuracy_score\n",
        "import nltk\n",
        "from sklearn.svm import LinearSVC\n",
        "from sklearn.metrics import mean_squared_error\n",
        "import warnings\n",
        "warnings.filterwarnings('ignore')"
      ],
      "execution_count": null,
      "outputs": []
    },
    {
      "cell_type": "code",
      "metadata": {
        "colab": {
          "base_uri": "https://localhost:8080/"
        },
        "id": "SdipW6cH1ii8",
        "outputId": "7b94afa7-fa16-4296-ae96-95929d74ffdb"
      },
      "source": [
        "nltk.download('stopwords')\n",
        "nlp = spacy.load(\"en_core_web_sm\")"
      ],
      "execution_count": null,
      "outputs": [
        {
          "output_type": "stream",
          "text": [
            "[nltk_data] Downloading package stopwords to /root/nltk_data...\n",
            "[nltk_data]   Package stopwords is already up-to-date!\n"
          ],
          "name": "stdout"
        }
      ]
    },
    {
      "cell_type": "code",
      "metadata": {
        "id": "KxWrWRr7D5Q2"
      },
      "source": [
        "df = pd.read_csv('/content/drive/MyDrive/Review DM/bgg-15m-reviews.csv')"
      ],
      "execution_count": null,
      "outputs": []
    },
    {
      "cell_type": "markdown",
      "metadata": {
        "id": "xwxdvqatFLHj"
      },
      "source": [
        "# Dataset"
      ]
    },
    {
      "cell_type": "code",
      "metadata": {
        "colab": {
          "base_uri": "https://localhost:8080/",
          "height": 359
        },
        "id": "aFRhNFEvEAIx",
        "outputId": "19de38be-c599-404d-bbf0-61e26d1752d6"
      },
      "source": [
        "df.head(10)"
      ],
      "execution_count": null,
      "outputs": [
        {
          "output_type": "execute_result",
          "data": {
            "text/html": [
              "<div>\n",
              "<style scoped>\n",
              "    .dataframe tbody tr th:only-of-type {\n",
              "        vertical-align: middle;\n",
              "    }\n",
              "\n",
              "    .dataframe tbody tr th {\n",
              "        vertical-align: top;\n",
              "    }\n",
              "\n",
              "    .dataframe thead th {\n",
              "        text-align: right;\n",
              "    }\n",
              "</style>\n",
              "<table border=\"1\" class=\"dataframe\">\n",
              "  <thead>\n",
              "    <tr style=\"text-align: right;\">\n",
              "      <th></th>\n",
              "      <th>Unnamed: 0</th>\n",
              "      <th>user</th>\n",
              "      <th>rating</th>\n",
              "      <th>comment</th>\n",
              "      <th>ID</th>\n",
              "      <th>name</th>\n",
              "    </tr>\n",
              "  </thead>\n",
              "  <tbody>\n",
              "    <tr>\n",
              "      <th>0</th>\n",
              "      <td>0</td>\n",
              "      <td>Torsten</td>\n",
              "      <td>10.0</td>\n",
              "      <td>NaN</td>\n",
              "      <td>30549</td>\n",
              "      <td>Pandemic</td>\n",
              "    </tr>\n",
              "    <tr>\n",
              "      <th>1</th>\n",
              "      <td>1</td>\n",
              "      <td>mitnachtKAUBO-I</td>\n",
              "      <td>10.0</td>\n",
              "      <td>Hands down my favorite new game of BGG CON 200...</td>\n",
              "      <td>30549</td>\n",
              "      <td>Pandemic</td>\n",
              "    </tr>\n",
              "    <tr>\n",
              "      <th>2</th>\n",
              "      <td>2</td>\n",
              "      <td>avlawn</td>\n",
              "      <td>10.0</td>\n",
              "      <td>I tend to either love or easily tire of co-op ...</td>\n",
              "      <td>30549</td>\n",
              "      <td>Pandemic</td>\n",
              "    </tr>\n",
              "    <tr>\n",
              "      <th>3</th>\n",
              "      <td>3</td>\n",
              "      <td>Mike Mayer</td>\n",
              "      <td>10.0</td>\n",
              "      <td>NaN</td>\n",
              "      <td>30549</td>\n",
              "      <td>Pandemic</td>\n",
              "    </tr>\n",
              "    <tr>\n",
              "      <th>4</th>\n",
              "      <td>4</td>\n",
              "      <td>Mease19</td>\n",
              "      <td>10.0</td>\n",
              "      <td>This is an amazing co-op game.  I play mostly ...</td>\n",
              "      <td>30549</td>\n",
              "      <td>Pandemic</td>\n",
              "    </tr>\n",
              "    <tr>\n",
              "      <th>5</th>\n",
              "      <td>5</td>\n",
              "      <td>cfarrell</td>\n",
              "      <td>10.0</td>\n",
              "      <td>Hey! I can finally rate this game I've been pl...</td>\n",
              "      <td>30549</td>\n",
              "      <td>Pandemic</td>\n",
              "    </tr>\n",
              "    <tr>\n",
              "      <th>6</th>\n",
              "      <td>6</td>\n",
              "      <td>katrinacarenne</td>\n",
              "      <td>10.0</td>\n",
              "      <td>NaN</td>\n",
              "      <td>30549</td>\n",
              "      <td>Pandemic</td>\n",
              "    </tr>\n",
              "    <tr>\n",
              "      <th>7</th>\n",
              "      <td>7</td>\n",
              "      <td>DSpangler</td>\n",
              "      <td>10.0</td>\n",
              "      <td>NaN</td>\n",
              "      <td>30549</td>\n",
              "      <td>Pandemic</td>\n",
              "    </tr>\n",
              "    <tr>\n",
              "      <th>8</th>\n",
              "      <td>8</td>\n",
              "      <td>gregd</td>\n",
              "      <td>10.0</td>\n",
              "      <td>Love it- great fun with my son. 2 plays so far...</td>\n",
              "      <td>30549</td>\n",
              "      <td>Pandemic</td>\n",
              "    </tr>\n",
              "    <tr>\n",
              "      <th>9</th>\n",
              "      <td>9</td>\n",
              "      <td>calbearfan</td>\n",
              "      <td>10.0</td>\n",
              "      <td>Fun, fun game. Strategy is required, but defin...</td>\n",
              "      <td>30549</td>\n",
              "      <td>Pandemic</td>\n",
              "    </tr>\n",
              "  </tbody>\n",
              "</table>\n",
              "</div>"
            ],
            "text/plain": [
              "   Unnamed: 0             user  ...     ID      name\n",
              "0           0          Torsten  ...  30549  Pandemic\n",
              "1           1  mitnachtKAUBO-I  ...  30549  Pandemic\n",
              "2           2           avlawn  ...  30549  Pandemic\n",
              "3           3       Mike Mayer  ...  30549  Pandemic\n",
              "4           4          Mease19  ...  30549  Pandemic\n",
              "5           5         cfarrell  ...  30549  Pandemic\n",
              "6           6   katrinacarenne  ...  30549  Pandemic\n",
              "7           7        DSpangler  ...  30549  Pandemic\n",
              "8           8            gregd  ...  30549  Pandemic\n",
              "9           9       calbearfan  ...  30549  Pandemic\n",
              "\n",
              "[10 rows x 6 columns]"
            ]
          },
          "metadata": {
            "tags": []
          },
          "execution_count": 24
        }
      ]
    },
    {
      "cell_type": "markdown",
      "metadata": {
        "id": "my1qz5d6FTrl"
      },
      "source": [
        "*The dataset consist of 6 columns the columns ID, name and user is not taken into consideration for this projects as we are preparing a model which can predict rating using NLP*"
      ]
    },
    {
      "cell_type": "code",
      "metadata": {
        "colab": {
          "base_uri": "https://localhost:8080/"
        },
        "id": "xkLtAKCbER6W",
        "outputId": "da789d6d-1f75-430b-c9cb-9f94eedf9b6c"
      },
      "source": [
        "df.shape"
      ],
      "execution_count": null,
      "outputs": [
        {
          "output_type": "execute_result",
          "data": {
            "text/plain": [
              "(15823269, 6)"
            ]
          },
          "metadata": {
            "tags": []
          },
          "execution_count": 25
        }
      ]
    },
    {
      "cell_type": "code",
      "metadata": {
        "colab": {
          "base_uri": "https://localhost:8080/"
        },
        "id": "WE1FKIQ1Gw-5",
        "outputId": "7d4a69b4-25ab-419a-d913-1c5578127744"
      },
      "source": [
        "df.info()"
      ],
      "execution_count": null,
      "outputs": [
        {
          "output_type": "stream",
          "text": [
            "<class 'pandas.core.frame.DataFrame'>\n",
            "RangeIndex: 15823269 entries, 0 to 15823268\n",
            "Data columns (total 6 columns):\n",
            " #   Column      Dtype  \n",
            "---  ------      -----  \n",
            " 0   Unnamed: 0  int64  \n",
            " 1   user        object \n",
            " 2   rating      float64\n",
            " 3   comment     object \n",
            " 4   ID          int64  \n",
            " 5   name        object \n",
            "dtypes: float64(1), int64(2), object(3)\n",
            "memory usage: 724.3+ MB\n"
          ],
          "name": "stdout"
        }
      ]
    },
    {
      "cell_type": "code",
      "metadata": {
        "colab": {
          "base_uri": "https://localhost:8080/",
          "height": 204
        },
        "id": "DFRauR2dGauG",
        "outputId": "7ca34736-94a5-4e6c-a4fb-a4e12bc11843"
      },
      "source": [
        "df.drop(['Unnamed: 0', 'user','ID','name'], axis=1, inplace= True) #dropping columns which is not fruitful for this project\n",
        "df.head()"
      ],
      "execution_count": null,
      "outputs": [
        {
          "output_type": "execute_result",
          "data": {
            "text/html": [
              "<div>\n",
              "<style scoped>\n",
              "    .dataframe tbody tr th:only-of-type {\n",
              "        vertical-align: middle;\n",
              "    }\n",
              "\n",
              "    .dataframe tbody tr th {\n",
              "        vertical-align: top;\n",
              "    }\n",
              "\n",
              "    .dataframe thead th {\n",
              "        text-align: right;\n",
              "    }\n",
              "</style>\n",
              "<table border=\"1\" class=\"dataframe\">\n",
              "  <thead>\n",
              "    <tr style=\"text-align: right;\">\n",
              "      <th></th>\n",
              "      <th>rating</th>\n",
              "      <th>comment</th>\n",
              "    </tr>\n",
              "  </thead>\n",
              "  <tbody>\n",
              "    <tr>\n",
              "      <th>0</th>\n",
              "      <td>10.0</td>\n",
              "      <td>NaN</td>\n",
              "    </tr>\n",
              "    <tr>\n",
              "      <th>1</th>\n",
              "      <td>10.0</td>\n",
              "      <td>Hands down my favorite new game of BGG CON 200...</td>\n",
              "    </tr>\n",
              "    <tr>\n",
              "      <th>2</th>\n",
              "      <td>10.0</td>\n",
              "      <td>I tend to either love or easily tire of co-op ...</td>\n",
              "    </tr>\n",
              "    <tr>\n",
              "      <th>3</th>\n",
              "      <td>10.0</td>\n",
              "      <td>NaN</td>\n",
              "    </tr>\n",
              "    <tr>\n",
              "      <th>4</th>\n",
              "      <td>10.0</td>\n",
              "      <td>This is an amazing co-op game.  I play mostly ...</td>\n",
              "    </tr>\n",
              "  </tbody>\n",
              "</table>\n",
              "</div>"
            ],
            "text/plain": [
              "   rating                                            comment\n",
              "0    10.0                                                NaN\n",
              "1    10.0  Hands down my favorite new game of BGG CON 200...\n",
              "2    10.0  I tend to either love or easily tire of co-op ...\n",
              "3    10.0                                                NaN\n",
              "4    10.0  This is an amazing co-op game.  I play mostly ..."
            ]
          },
          "metadata": {
            "tags": []
          },
          "execution_count": 27
        }
      ]
    },
    {
      "cell_type": "markdown",
      "metadata": {
        "id": "C08uFfM8GFPc"
      },
      "source": [
        "As we can see in the comment column it consist of Null data which doesnot make any contribution to our prediction so we will first clean the data"
      ]
    },
    {
      "cell_type": "code",
      "metadata": {
        "colab": {
          "base_uri": "https://localhost:8080/",
          "height": 359
        },
        "id": "cpvOaYoDIhJD",
        "outputId": "cb81980d-f186-4b46-ae33-bb4da6b27269"
      },
      "source": [
        "df.dropna(inplace= True)\n",
        "df.head(10)"
      ],
      "execution_count": null,
      "outputs": [
        {
          "output_type": "execute_result",
          "data": {
            "text/html": [
              "<div>\n",
              "<style scoped>\n",
              "    .dataframe tbody tr th:only-of-type {\n",
              "        vertical-align: middle;\n",
              "    }\n",
              "\n",
              "    .dataframe tbody tr th {\n",
              "        vertical-align: top;\n",
              "    }\n",
              "\n",
              "    .dataframe thead th {\n",
              "        text-align: right;\n",
              "    }\n",
              "</style>\n",
              "<table border=\"1\" class=\"dataframe\">\n",
              "  <thead>\n",
              "    <tr style=\"text-align: right;\">\n",
              "      <th></th>\n",
              "      <th>rating</th>\n",
              "      <th>comment</th>\n",
              "    </tr>\n",
              "  </thead>\n",
              "  <tbody>\n",
              "    <tr>\n",
              "      <th>1</th>\n",
              "      <td>10.0</td>\n",
              "      <td>Hands down my favorite new game of BGG CON 200...</td>\n",
              "    </tr>\n",
              "    <tr>\n",
              "      <th>2</th>\n",
              "      <td>10.0</td>\n",
              "      <td>I tend to either love or easily tire of co-op ...</td>\n",
              "    </tr>\n",
              "    <tr>\n",
              "      <th>4</th>\n",
              "      <td>10.0</td>\n",
              "      <td>This is an amazing co-op game.  I play mostly ...</td>\n",
              "    </tr>\n",
              "    <tr>\n",
              "      <th>5</th>\n",
              "      <td>10.0</td>\n",
              "      <td>Hey! I can finally rate this game I've been pl...</td>\n",
              "    </tr>\n",
              "    <tr>\n",
              "      <th>8</th>\n",
              "      <td>10.0</td>\n",
              "      <td>Love it- great fun with my son. 2 plays so far...</td>\n",
              "    </tr>\n",
              "    <tr>\n",
              "      <th>9</th>\n",
              "      <td>10.0</td>\n",
              "      <td>Fun, fun game. Strategy is required, but defin...</td>\n",
              "    </tr>\n",
              "    <tr>\n",
              "      <th>11</th>\n",
              "      <td>10.0</td>\n",
              "      <td>I don't know how they balanced this thing.  Ab...</td>\n",
              "    </tr>\n",
              "    <tr>\n",
              "      <th>12</th>\n",
              "      <td>10.0</td>\n",
              "      <td>Best collaborative multi-player game out there...</td>\n",
              "    </tr>\n",
              "    <tr>\n",
              "      <th>13</th>\n",
              "      <td>10.0</td>\n",
              "      <td>(25+ plays)    Who can play?  Family game for ...</td>\n",
              "    </tr>\n",
              "    <tr>\n",
              "      <th>16</th>\n",
              "      <td>10.0</td>\n",
              "      <td>A thematic, brisk game that is well balanced a...</td>\n",
              "    </tr>\n",
              "  </tbody>\n",
              "</table>\n",
              "</div>"
            ],
            "text/plain": [
              "    rating                                            comment\n",
              "1     10.0  Hands down my favorite new game of BGG CON 200...\n",
              "2     10.0  I tend to either love or easily tire of co-op ...\n",
              "4     10.0  This is an amazing co-op game.  I play mostly ...\n",
              "5     10.0  Hey! I can finally rate this game I've been pl...\n",
              "8     10.0  Love it- great fun with my son. 2 plays so far...\n",
              "9     10.0  Fun, fun game. Strategy is required, but defin...\n",
              "11    10.0  I don't know how they balanced this thing.  Ab...\n",
              "12    10.0  Best collaborative multi-player game out there...\n",
              "13    10.0  (25+ plays)    Who can play?  Family game for ...\n",
              "16    10.0  A thematic, brisk game that is well balanced a..."
            ]
          },
          "metadata": {
            "tags": []
          },
          "execution_count": 28
        }
      ]
    },
    {
      "cell_type": "code",
      "metadata": {
        "colab": {
          "base_uri": "https://localhost:8080/"
        },
        "id": "RP0tGGxhOaxe",
        "outputId": "55e6548f-d4e5-4a92-e15f-cec5b2906cfa"
      },
      "source": [
        "df.shape"
      ],
      "execution_count": null,
      "outputs": [
        {
          "output_type": "execute_result",
          "data": {
            "text/plain": [
              "(2995023, 2)"
            ]
          },
          "metadata": {
            "tags": []
          },
          "execution_count": 29
        }
      ]
    },
    {
      "cell_type": "markdown",
      "metadata": {
        "id": "WE4DJCI8QFNf"
      },
      "source": [
        "*We can see that after doing the cleaning for NULL value we have found that the data size srink from 15 million to almost 3 million*"
      ]
    },
    {
      "cell_type": "markdown",
      "metadata": {
        "id": "uKJLJIZgWyZ6"
      },
      "source": [
        "### Undersatnding Data  "
      ]
    },
    {
      "cell_type": "code",
      "metadata": {
        "colab": {
          "base_uri": "https://localhost:8080/",
          "height": 265
        },
        "id": "FUauIpJcTCBU",
        "outputId": "0b6a48e7-655b-4f0f-9c98-93175cd155cd"
      },
      "source": [
        "plt.hist(df['rating'], bins = 50)\n",
        "plt.show()"
      ],
      "execution_count": null,
      "outputs": [
        {
          "output_type": "display_data",
          "data": {
            "image/png": "[encoded data removed]",
            "text/plain": [
              "<Figure size 432x288 with 1 Axes>"
            ]
          },
          "metadata": {
            "tags": [],
            "needs_background": "light"
          }
        }
      ]
    },
    {
      "cell_type": "markdown",
      "metadata": {
        "id": "07MpozA8XJ4M"
      },
      "source": [
        "*From the above plot we can see that the ratings are not just integer value they in float too so we the model genration purpose we need to round the rating to nearest integer*"
      ]
    },
    {
      "cell_type": "code",
      "metadata": {
        "id": "QKRey6XqU8Rx"
      },
      "source": [
        "df.rating = df['rating'].round()"
      ],
      "execution_count": null,
      "outputs": []
    },
    {
      "cell_type": "code",
      "metadata": {
        "colab": {
          "base_uri": "https://localhost:8080/",
          "height": 265
        },
        "id": "bsubP9xkZQNS",
        "outputId": "19edaf21-1047-4f82-9a7b-2ef8d35a06a7"
      },
      "source": [
        "plt.hist(df['rating'], bins = 50)\n",
        "plt.show()"
      ],
      "execution_count": null,
      "outputs": [
        {
          "output_type": "display_data",
          "data": {
            "image/png": "[encoded data removed]",
            "text/plain": [
              "<Figure size 432x288 with 1 Axes>"
            ]
          },
          "metadata": {
            "tags": [],
            "needs_background": "light"
          }
        }
      ]
    },
    {
      "cell_type": "markdown",
      "metadata": {
        "id": "EGqLX0BnfyM7"
      },
      "source": [
        "*From the above plot we can understand that the dataset consist of comments which are rated 6 to 8 are more in number* "
      ]
    },
    {
      "cell_type": "markdown",
      "metadata": {
        "id": "LAgUvlVpnbaI"
      },
      "source": [
        "### Data Reduciton \n",
        "*As the data consist of almost 3 million data and requires a huge amount of computation power therefore for carrying out preprocessing and model generation im using 10% of the data create the model and carry out testing on it.*"
      ]
    },
    {
      "cell_type": "code",
      "metadata": {
        "colab": {
          "base_uri": "https://localhost:8080/",
          "height": 204
        },
        "id": "T9NkEE6Wr225",
        "outputId": "913db4b7-e93b-4ed0-fe3d-bb47e461fc24"
      },
      "source": [
        "df_final = df.sample(frac=0.1, replace=False, random_state=1)\n",
        "df_final.head()"
      ],
      "execution_count": null,
      "outputs": [
        {
          "output_type": "execute_result",
          "data": {
            "text/html": [
              "<div>\n",
              "<style scoped>\n",
              "    .dataframe tbody tr th:only-of-type {\n",
              "        vertical-align: middle;\n",
              "    }\n",
              "\n",
              "    .dataframe tbody tr th {\n",
              "        vertical-align: top;\n",
              "    }\n",
              "\n",
              "    .dataframe thead th {\n",
              "        text-align: right;\n",
              "    }\n",
              "</style>\n",
              "<table border=\"1\" class=\"dataframe\">\n",
              "  <thead>\n",
              "    <tr style=\"text-align: right;\">\n",
              "      <th></th>\n",
              "      <th>rating</th>\n",
              "      <th>comment</th>\n",
              "    </tr>\n",
              "  </thead>\n",
              "  <tbody>\n",
              "    <tr>\n",
              "      <th>15632034</th>\n",
              "      <td>8.0</td>\n",
              "      <td>FUN: rally fast abstract with a nice theme and...</td>\n",
              "    </tr>\n",
              "    <tr>\n",
              "      <th>5753885</th>\n",
              "      <td>8.0</td>\n",
              "      <td>Really like both this and Wallenstein.  It's a...</td>\n",
              "    </tr>\n",
              "    <tr>\n",
              "      <th>8358861</th>\n",
              "      <td>7.0</td>\n",
              "      <td>I thought this was fun. It's random and luck b...</td>\n",
              "    </tr>\n",
              "    <tr>\n",
              "      <th>6177686</th>\n",
              "      <td>7.0</td>\n",
              "      <td>This is a fun, light game that combines yahtze...</td>\n",
              "    </tr>\n",
              "    <tr>\n",
              "      <th>11402598</th>\n",
              "      <td>5.0</td>\n",
              "      <td>Social deduction game. Reminded me of spyfall ...</td>\n",
              "    </tr>\n",
              "  </tbody>\n",
              "</table>\n",
              "</div>"
            ],
            "text/plain": [
              "          rating                                            comment\n",
              "15632034     8.0  FUN: rally fast abstract with a nice theme and...\n",
              "5753885      8.0  Really like both this and Wallenstein.  It's a...\n",
              "8358861      7.0  I thought this was fun. It's random and luck b...\n",
              "6177686      7.0  This is a fun, light game that combines yahtze...\n",
              "11402598     5.0  Social deduction game. Reminded me of spyfall ..."
            ]
          },
          "metadata": {
            "tags": []
          },
          "execution_count": 33
        }
      ]
    },
    {
      "cell_type": "code",
      "metadata": {
        "colab": {
          "base_uri": "https://localhost:8080/",
          "height": 265
        },
        "id": "8BfIP57SrQ2b",
        "outputId": "b42710b2-6da6-4530-b4e9-cc7f85dffc54"
      },
      "source": [
        "plt.hist(df_final['rating'], bins = 50)\n",
        "plt.show()"
      ],
      "execution_count": null,
      "outputs": [
        {
          "output_type": "display_data",
          "data": {
            "image/png": "[encoded data removed]",
            "text/plain": [
              "<Figure size 432x288 with 1 Axes>"
            ]
          },
          "metadata": {
            "tags": [],
            "needs_background": "light"
          }
        }
      ]
    },
    {
      "cell_type": "markdown",
      "metadata": {
        "id": "BqkYPlADsTpu"
      },
      "source": [
        "*From the above graph we can see that the data is split in the same fashion as the orginal data of 3 million , therefore we can be sure there is no loss of information*"
      ]
    },
    {
      "cell_type": "code",
      "metadata": {
        "id": "dleG-knhxs8t"
      },
      "source": [
        "X = df_final['comment'].values\n",
        "Y = df_final['rating'].values"
      ],
      "execution_count": null,
      "outputs": []
    },
    {
      "cell_type": "markdown",
      "metadata": {
        "id": "vhBmEm6mitUj"
      },
      "source": [
        "# Removing StopWords, Punctuatio and Integers from Comment"
      ]
    },
    {
      "cell_type": "code",
      "metadata": {
        "id": "FwiaUoTN9Fwo"
      },
      "source": [
        "X_train, X_test, Y_train, Y_test = train_test_split(X, Y, test_size = 0.30)"
      ],
      "execution_count": null,
      "outputs": []
    },
    {
      "cell_type": "code",
      "metadata": {
        "colab": {
          "base_uri": "https://localhost:8080/"
        },
        "id": "zVavK-ldDplB",
        "outputId": "d15ebda8-115a-46bf-ce09-37769c29b282"
      },
      "source": [
        "print(np.where(Y_train == 3))"
      ],
      "execution_count": null,
      "outputs": [
        {
          "output_type": "stream",
          "text": [
            "(array([    50,     64,     92, ..., 209592, 209596, 209602]),)\n"
          ],
          "name": "stdout"
        }
      ]
    },
    {
      "cell_type": "code",
      "metadata": {
        "id": "9hwyNK6Pirhg"
      },
      "source": [
        "exclude_list = string.digits + string.punctuation #removing the punctuation & digits\n",
        "stopwords = nltk.corpus.stopwords.words(\"english\")\n",
        "\n",
        "def cleaning(text):\n",
        "  nlp.max_length = len(text)\n",
        "  raw_text = text.lower() #coverting to lower case\n",
        "  # Lemmatization\n",
        "  table = str.maketrans(exclude_list,len(exclude_list)*\" \")\n",
        "  raw_text = raw_text.translate(table)\n",
        "  doc = nlp(raw_text, disable = ['ner', 'parser']) #Loading into the 'en model' Lemmatization\n",
        "  lemmatized_output = \" \".join([token.lemma_ for token in doc]) #Lemmatize list of words and join\n",
        "  # Removing Stopwords\n",
        "  words = lemmatized_output.split()\n",
        "  clean_text = \" \".join([w for w in words if w not in stopwords])\n",
        "  return clean_text"
      ],
      "execution_count": null,
      "outputs": []
    },
    {
      "cell_type": "code",
      "metadata": {
        "id": "Bu8pnajxhSA7"
      },
      "source": [
        "Xtrain_clean = list()\n",
        "for text in X_train:\n",
        "  Xtrain_clean.append(cleaning(text))"
      ],
      "execution_count": null,
      "outputs": []
    },
    {
      "cell_type": "code",
      "metadata": {
        "id": "Ce7_qQAnD9yo"
      },
      "source": [
        "Xtrain_clean = list(map(lambda st: str.replace(st,'-PRON-',''), Xtrain_clean)) #removing string -PRON-"
      ],
      "execution_count": null,
      "outputs": []
    },
    {
      "cell_type": "markdown",
      "metadata": {
        "id": "OdtFM-qgM7wx"
      },
      "source": [
        "*The above clean text is output of the process which consist of steps like coversting to lower case, removing punctuation & digits. The text is then Lemmatized. Lemmatization  is a process of Text normalization technique used in NLP which helps in preparing text for next step of model creation.*"
      ]
    },
    {
      "cell_type": "markdown",
      "metadata": {
        "id": "6EODienQOFl9"
      },
      "source": [
        "# Model Creation and Evaluation"
      ]
    },
    {
      "cell_type": "code",
      "metadata": {
        "id": "PujLcp2qQ2E1"
      },
      "source": [
        "vectorizer = TfidfVectorizer(stop_words = 'english', max_df = 0.5 , max_features= 15000)\n",
        "dtm = vectorizer.fit_transform(Xtrain_clean)\n",
        "dtm_test = vectorizer.transform(X_test)"
      ],
      "execution_count": null,
      "outputs": []
    },
    {
      "cell_type": "markdown",
      "metadata": {
        "id": "WB7wUvGdBicd"
      },
      "source": [
        "### MultiNomial Naive Bayes"
      ]
    },
    {
      "cell_type": "code",
      "metadata": {
        "colab": {
          "base_uri": "https://localhost:8080/"
        },
        "id": "YfjP4ZDZVuQP",
        "outputId": "e72f4d8f-e030-4955-ceec-fab9d175753b"
      },
      "source": [
        "NaiveBayes = MultinomialNB()\n",
        "NaiveBayes.fit(dtm, Y_train)"
      ],
      "execution_count": null,
      "outputs": [
        {
          "output_type": "execute_result",
          "data": {
            "text/plain": [
              "MultinomialNB(alpha=1.0, class_prior=None, fit_prior=True)"
            ]
          },
          "metadata": {
            "tags": []
          },
          "execution_count": 42
        }
      ]
    },
    {
      "cell_type": "code",
      "metadata": {
        "id": "Smz_VnwUXGkA"
      },
      "source": [
        "Y_pred = NaiveBayes.predict(dtm_test)"
      ],
      "execution_count": null,
      "outputs": []
    },
    {
      "cell_type": "code",
      "metadata": {
        "colab": {
          "base_uri": "https://localhost:8080/"
        },
        "id": "n7xTJGGjZgBW",
        "outputId": "6068ec67-823d-4349-ed13-b999c6e03c8c"
      },
      "source": [
        "print(\"MUltinomial Naive Bayes Test Accuracy is {} %\".format(accuracy_score(Y_test, Y_pred)*100))"
      ],
      "execution_count": null,
      "outputs": [
        {
          "output_type": "stream",
          "text": [
            "MUltinomial Naive Bayes Test Accuracy is 28.525002504145753 %\n"
          ],
          "name": "stdout"
        }
      ]
    },
    {
      "cell_type": "markdown",
      "metadata": {
        "id": "KxIRbUwJFZ4M"
      },
      "source": [
        "### Linear SVC"
      ]
    },
    {
      "cell_type": "code",
      "metadata": {
        "colab": {
          "base_uri": "https://localhost:8080/"
        },
        "id": "qr3Rny1dmM0P",
        "outputId": "d1a8a4e0-1de7-47d0-a48b-d70b3796d831"
      },
      "source": [
        "SVC = LinearSVC()\n",
        "SVC.fit(dtm,Y_train)"
      ],
      "execution_count": null,
      "outputs": [
        {
          "output_type": "execute_result",
          "data": {
            "text/plain": [
              "LinearSVC(C=1.0, class_weight=None, dual=True, fit_intercept=True,\n",
              "          intercept_scaling=1, loss='squared_hinge', max_iter=1000,\n",
              "          multi_class='ovr', penalty='l2', random_state=None, tol=0.0001,\n",
              "          verbose=0)"
            ]
          },
          "metadata": {
            "tags": []
          },
          "execution_count": 45
        }
      ]
    },
    {
      "cell_type": "code",
      "metadata": {
        "id": "sZKihbb4nCup"
      },
      "source": [
        "Y_pred_svm = SVC.predict(dtm_test)"
      ],
      "execution_count": null,
      "outputs": []
    },
    {
      "cell_type": "code",
      "metadata": {
        "colab": {
          "base_uri": "https://localhost:8080/"
        },
        "id": "HbC8vwmGwcOA",
        "outputId": "a5a8a7b1-2a68-420a-90de-3ac12eef4426"
      },
      "source": [
        "print(\"Linear SVC Test Accuracy is {} %\".format(accuracy_score(Y_test, Y_pred_svm)*100))"
      ],
      "execution_count": null,
      "outputs": [
        {
          "output_type": "stream",
          "text": [
            "Linear SVC Test Accuracy is 27.649107967635306 %\n"
          ],
          "name": "stdout"
        }
      ]
    },
    {
      "cell_type": "markdown",
      "metadata": {
        "id": "y-NW16naZ4Ud"
      },
      "source": [
        "# Hyperparameter tunning "
      ]
    },
    {
      "cell_type": "markdown",
      "metadata": {
        "id": "xE0yXqGLf__0"
      },
      "source": [
        "Hypeparameter for Multinomial Naive Bayes"
      ]
    },
    {
      "cell_type": "code",
      "metadata": {
        "id": "jKzs_xwfi5EA"
      },
      "source": [
        "from sklearn.model_selection import cross_val_score"
      ],
      "execution_count": null,
      "outputs": []
    },
    {
      "cell_type": "code",
      "metadata": {
        "colab": {
          "base_uri": "https://localhost:8080/"
        },
        "id": "ugcGt6gWrdfs",
        "outputId": "b2943107-9a93-402f-84f8-e33de2dcd93b"
      },
      "source": [
        "alpha = list(range(1, 11, 1))\n",
        "accuracy = dict()\n",
        "for x in alpha:\n",
        "  MNBC  = MultinomialNB(alpha= x)\n",
        "  scores = cross_val_score(MNBC, dtm, Y_train, cv=3, scoring='accuracy')\n",
        "  accuracy[x] = scores.mean()\n",
        "print(accuracy)"
      ],
      "execution_count": null,
      "outputs": [
        {
          "output_type": "stream",
          "text": [
            "{1: 0.294055355290921, 2: 0.2934305101732056, 3: 0.29114576516998586, 4: 0.2885748239130295, 5: 0.2860325049228848, 6: 0.2835474229584001, 7: 0.28145346765394, 8: 0.2793070426756851, 9: 0.27752789715523435, 10: 0.2760444784969981}\n"
          ],
          "name": "stdout"
        }
      ]
    },
    {
      "cell_type": "code",
      "metadata": {
        "colab": {
          "base_uri": "https://localhost:8080/",
          "height": 359
        },
        "id": "vQTdGm6Qk1Ah",
        "outputId": "4a9ec922-0d2d-4200-ba9a-9957d428eca8"
      },
      "source": [
        "naiveDF = pd.DataFrame.from_dict(accuracy,orient='index')\n",
        "naiveDF.sort_values(0,ascending= False)"
      ],
      "execution_count": null,
      "outputs": [
        {
          "output_type": "execute_result",
          "data": {
            "text/html": [
              "<div>\n",
              "<style scoped>\n",
              "    .dataframe tbody tr th:only-of-type {\n",
              "        vertical-align: middle;\n",
              "    }\n",
              "\n",
              "    .dataframe tbody tr th {\n",
              "        vertical-align: top;\n",
              "    }\n",
              "\n",
              "    .dataframe thead th {\n",
              "        text-align: right;\n",
              "    }\n",
              "</style>\n",
              "<table border=\"1\" class=\"dataframe\">\n",
              "  <thead>\n",
              "    <tr style=\"text-align: right;\">\n",
              "      <th></th>\n",
              "      <th>0</th>\n",
              "    </tr>\n",
              "  </thead>\n",
              "  <tbody>\n",
              "    <tr>\n",
              "      <th>1</th>\n",
              "      <td>0.294055</td>\n",
              "    </tr>\n",
              "    <tr>\n",
              "      <th>2</th>\n",
              "      <td>0.293431</td>\n",
              "    </tr>\n",
              "    <tr>\n",
              "      <th>3</th>\n",
              "      <td>0.291146</td>\n",
              "    </tr>\n",
              "    <tr>\n",
              "      <th>4</th>\n",
              "      <td>0.288575</td>\n",
              "    </tr>\n",
              "    <tr>\n",
              "      <th>5</th>\n",
              "      <td>0.286033</td>\n",
              "    </tr>\n",
              "    <tr>\n",
              "      <th>6</th>\n",
              "      <td>0.283547</td>\n",
              "    </tr>\n",
              "    <tr>\n",
              "      <th>7</th>\n",
              "      <td>0.281453</td>\n",
              "    </tr>\n",
              "    <tr>\n",
              "      <th>8</th>\n",
              "      <td>0.279307</td>\n",
              "    </tr>\n",
              "    <tr>\n",
              "      <th>9</th>\n",
              "      <td>0.277528</td>\n",
              "    </tr>\n",
              "    <tr>\n",
              "      <th>10</th>\n",
              "      <td>0.276044</td>\n",
              "    </tr>\n",
              "  </tbody>\n",
              "</table>\n",
              "</div>"
            ],
            "text/plain": [
              "           0\n",
              "1   0.294055\n",
              "2   0.293431\n",
              "3   0.291146\n",
              "4   0.288575\n",
              "5   0.286033\n",
              "6   0.283547\n",
              "7   0.281453\n",
              "8   0.279307\n",
              "9   0.277528\n",
              "10  0.276044"
            ]
          },
          "metadata": {
            "tags": []
          },
          "execution_count": 51
        }
      ]
    },
    {
      "cell_type": "markdown",
      "metadata": {
        "id": "jLvT5O39ZGuF"
      },
      "source": [
        "*from above we can see that the alpha was 1 outperform others in the case of Multinomial Naive Bayes therefore keeping alpha 1 as the hyperparameter for the Naive Bayes model*"
      ]
    },
    {
      "cell_type": "markdown",
      "metadata": {
        "id": "SfRtwO9Z7L1S"
      },
      "source": [
        "Hypeparameter for Linear SVC"
      ]
    },
    {
      "cell_type": "code",
      "metadata": {
        "id": "qgtRzR77aA4p"
      },
      "source": [
        "SVC_acc = dict()\n",
        "SVC_10 = LinearSVC(C= 10)\n",
        "scores = cross_val_score(SVC, dtm, Y_train, cv=3, scoring='accuracy')"
      ],
      "execution_count": null,
      "outputs": []
    },
    {
      "cell_type": "code",
      "metadata": {
        "id": "lD6ZS42q4d-f"
      },
      "source": [
        "SVC_100 = LinearSVC(C= 100)\n",
        "scores = cross_val_score(SVC, dtm, Y_train, cv=3, scoring='accuracy')"
      ],
      "execution_count": null,
      "outputs": []
    },
    {
      "cell_type": "code",
      "metadata": {
        "id": "oJKvePWf41JH"
      },
      "source": [
        "SVC_1 = LinearSVC()\n",
        "scores = cross_val_score(SVC, dtm, Y_train, cv=3, scoring='accuracy')"
      ],
      "execution_count": null,
      "outputs": []
    },
    {
      "cell_type": "code",
      "metadata": {
        "colab": {
          "base_uri": "https://localhost:8080/",
          "height": 142
        },
        "id": "QrSTQXIz6ly4",
        "outputId": "3d7d0e0a-3c8e-47ae-9277-0d73e77f1e9a"
      },
      "source": [
        "SVCDF = pd.DataFrame.from_dict(SVC_acc,orient='index')\n",
        "SVCDF.sort_values(0,ascending= False)"
      ],
      "execution_count": null,
      "outputs": [
        {
          "output_type": "execute_result",
          "data": {
            "text/html": [
              "<div>\n",
              "<style scoped>\n",
              "    .dataframe tbody tr th:only-of-type {\n",
              "        vertical-align: middle;\n",
              "    }\n",
              "\n",
              "    .dataframe tbody tr th {\n",
              "        vertical-align: top;\n",
              "    }\n",
              "\n",
              "    .dataframe thead th {\n",
              "        text-align: right;\n",
              "    }\n",
              "</style>\n",
              "<table border=\"1\" class=\"dataframe\">\n",
              "  <thead>\n",
              "    <tr style=\"text-align: right;\">\n",
              "      <th></th>\n",
              "      <th>0</th>\n",
              "    </tr>\n",
              "  </thead>\n",
              "  <tbody>\n",
              "    <tr>\n",
              "      <th>100</th>\n",
              "      <td>0.287010</td>\n",
              "    </tr>\n",
              "    <tr>\n",
              "      <th>10</th>\n",
              "      <td>0.287006</td>\n",
              "    </tr>\n",
              "    <tr>\n",
              "      <th>1</th>\n",
              "      <td>0.287006</td>\n",
              "    </tr>\n",
              "  </tbody>\n",
              "</table>\n",
              "</div>"
            ],
            "text/plain": [
              "            0\n",
              "100  0.287010\n",
              "10   0.287006\n",
              "1    0.287006"
            ]
          },
          "metadata": {
            "tags": []
          },
          "execution_count": 59
        }
      ]
    },
    {
      "cell_type": "markdown",
      "metadata": {
        "id": "J5rP1iel63yt"
      },
      "source": [
        "*from the above comparison we can see that the hyperparameter C= 100 performs better for Linear SVC model*"
      ]
    },
    {
      "cell_type": "markdown",
      "metadata": {
        "id": "V_0_zJQW75w_"
      },
      "source": [
        "# Conclusion"
      ]
    },
    {
      "cell_type": "code",
      "metadata": {
        "colab": {
          "base_uri": "https://localhost:8080/"
        },
        "id": "ZlzHExmt9XWt",
        "outputId": "c17077aa-f888-4de0-aeda-681f5525c0ec"
      },
      "source": [
        "review = list()\n",
        "comment = \"I hate the game\"\n",
        "review.append(comment)\n",
        "dtm_rev = vectorizer.transform(review)\n",
        "pred_naive = NaiveBayes.predict(dtm_rev)\n",
        "pred_SVC = SVC.predict(dtm_rev)\n",
        "print(\"prediction for NAIVE Bayes:\",pred_naive)\n",
        "print(\"prediction for SVC:\",pred_SVC)"
      ],
      "execution_count": null,
      "outputs": [
        {
          "output_type": "stream",
          "text": [
            "prediction for NAIVE Bayes: [8.]\n",
            "prediction for SVC: [1.]\n"
          ],
          "name": "stdout"
        }
      ]
    },
    {
      "cell_type": "markdown",
      "metadata": {
        "id": "Ktk5ejcH8Eei"
      },
      "source": [
        "*As the model is been trained on partial amount of data due to computation limitation and as we can see that the data is not balance in the case of rating which we can understand by seeing the visulization of rating that the amount of comments with rating 8 is more in the dataset as compared to others, therefore which has lead to  error of overfitting the model for the class 8 rating data in Navie Bayes model where as SVC has performed in a proper fashion. In theroy and statics wise the Naive Bayes does perform good on the data but after observation we can understand that Naive Bayes model is Overfitted*"
      ]
    },
    {
      "cell_type": "markdown",
      "metadata": {
        "id": "AnhA3yGP_y7i"
      },
      "source": [
        "*Therefore for the application development I'm using Linear SVC model for prediction*"
      ]
    },
    {
      "cell_type": "markdown",
      "metadata": {
        "id": "SI6MIIq2Z-gU"
      },
      "source": [
        "# Saving the model"
      ]
    },
    {
      "cell_type": "code",
      "metadata": {
        "id": "rIJnKwFxeXnL"
      },
      "source": [
        "import pickle"
      ],
      "execution_count": null,
      "outputs": []
    },
    {
      "cell_type": "code",
      "metadata": {
        "id": "_A6LH1eBeeIc"
      },
      "source": [
        "pickle.dump(NaiveBayes,open('modelNaiveBayes.pkl','wb'))"
      ],
      "execution_count": null,
      "outputs": []
    },
    {
      "cell_type": "code",
      "metadata": {
        "id": "ZKPOQRg1eiaC"
      },
      "source": [
        "pickle.dump(SVC,open('modelSVM.pkl','wb'))"
      ],
      "execution_count": null,
      "outputs": []
    },
    {
      "cell_type": "code",
      "metadata": {
        "id": "qdc_ZxlrewST"
      },
      "source": [
        "pickle.dump(vectorizer,open('modelvectorizer.pkl','wb'))"
      ],
      "execution_count": null,
      "outputs": []
    },
    {
      "cell_type": "markdown",
      "metadata": {
        "id": "dj6RLurNAVJZ"
      },
      "source": [
        "# Reference \n",
        "https://monkeylearn.com/text-classification/\n",
        "\n",
        "https://www.kaggle.com/jvanelteren/collaborative-filtering-defining-similar-games\n",
        "\n",
        "https://www.kaggle.com/jvanelteren/exploring-the-13m-reviews-bgg-dataset\n"
      ]
    },
    {
      "cell_type": "markdown",
      "metadata": {
        "id": "Pwlbsum5HQq5"
      },
      "source": [
        "# Challenge \n",
        " The amount of data was very huge 15 million data the preprocessing itself took the life of my personal computer, because of which I implemented the whole  project using Google Colab still it was very time consuming for some algorithms to obtain fitting example SVM.\n",
        " \n",
        " Therotically the Naive bayes model was outperforming Lineasr SVC, but at the end when i used it for manual testing by passing the comments my self i understood it has been overfitted for the class 8 comments. \n",
        "\n"
      ]
    },
    {
      "cell_type": "code",
      "metadata": {
        "id": "9JZWBKUODJlu"
      },
      "source": [
        ""
      ],
      "execution_count": null,
      "outputs": []
    }
  ]
}